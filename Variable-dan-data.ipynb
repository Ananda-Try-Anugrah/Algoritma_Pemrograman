{
  "nbformat": 4,
  "nbformat_minor": 0,
  "metadata": {
    "colab": {
      "provenance": [],
      "authorship_tag": "ABX9TyNR9JRxpFU3zls9zElEPH+k"
    },
    "kernelspec": {
      "name": "python3",
      "display_name": "Python 3"
    },
    "language_info": {
      "name": "python"
    }
  },
  "cells": [
    {
      "cell_type": "markdown",
      "source": [
        "# VARIABEL PYTHON\n",
        "\n",
        "Int = digunakan untuk mendeklarasikan angka (1-9).\n",
        "\n",
        "String = digunakan untuk mendeklarasikan sebuah (a-z) dan tanda baca, string juga memiliki tanda petik (') pada value/nilainya.\n",
        "\n",
        "Float = digunakan untuk mendeklarasikan decimal (1,5 1,7 4,0 3,14)."
      ],
      "metadata": {
        "id": "t9bpGZ6ULNln"
      }
    },
    {
      "cell_type": "code",
      "source": [
        "#contoh 1\n",
        "\n",
        "a=7\n",
        "b=5\n",
        "c=a+b\n",
        "\n",
        "print(c)"
      ],
      "metadata": {
        "colab": {
          "base_uri": "https://localhost:8080/"
        },
        "id": "hUGkjs5XLr39",
        "outputId": "98b86ba1-3825-4ad6-d65b-e1cdc3c18303"
      },
      "execution_count": 6,
      "outputs": [
        {
          "output_type": "stream",
          "name": "stdout",
          "text": [
            "12\n"
          ]
        }
      ]
    },
    {
      "cell_type": "markdown",
      "source": [
        "Pada contoh pertama dijelaskan pejumlahan dalam bentuk Int, yaitu pendeklarasian dalam bentuk angka (1-9)."
      ],
      "metadata": {
        "id": "V62bcfeVLtp6"
      }
    },
    {
      "cell_type": "code",
      "source": [
        "#contoh 2\n",
        "\n",
        "a= 'A'\n",
        "b='-Wall'\n",
        "c=a+b\n",
        "\n",
        "print(c)"
      ],
      "metadata": {
        "colab": {
          "base_uri": "https://localhost:8080/"
        },
        "id": "NKlOca_pLxBv",
        "outputId": "1ec7cfe1-1a12-470d-b286-f6bdaf8885d3"
      },
      "execution_count": 7,
      "outputs": [
        {
          "output_type": "stream",
          "name": "stdout",
          "text": [
            "A-Wall\n"
          ]
        }
      ]
    },
    {
      "cell_type": "markdown",
      "source": [
        "Pada contoh kedua dijelaskan penjumlahan dalam bentuk str, yaitu pendeklarasian bentuk huruf (a-z) dan tanda baca. penggunaan string ditandai dengan penggunaan tanda kutip (')."
      ],
      "metadata": {
        "id": "ZN6k-SEEL1u1"
      }
    },
    {
      "cell_type": "code",
      "source": [
        "#contoh 3\n",
        "\n",
        "a=1.2\n",
        "b=1.3\n",
        "c=a+b\n",
        "\n",
        "print(c)"
      ],
      "metadata": {
        "colab": {
          "base_uri": "https://localhost:8080/"
        },
        "id": "1cKdFaWdL-Nw",
        "outputId": "4d1cb637-ff96-4338-f337-c823289f51d6"
      },
      "execution_count": 4,
      "outputs": [
        {
          "output_type": "stream",
          "name": "stdout",
          "text": [
            "2.5\n"
          ]
        }
      ]
    },
    {
      "cell_type": "markdown",
      "source": [
        "Pada contoh ketiga dijelaskan penjumlahan dalam bentuk float, yaitu pendeklarasian decimal. Penggunaan float di tandai dengan adanya bilangan desimal."
      ],
      "metadata": {
        "id": "15K8hNM0L_Qe"
      }
    },
    {
      "cell_type": "markdown",
      "source": [
        "#OPERATOR ARITMATIKA\n",
        "\n",
        "1. Penjumlahan = +\n",
        "2. Pengurangan = -\n",
        "3. Perkalian = *\n",
        "4. Pembagian = /\n",
        "5. Perpangkatan (eksponen) = **\n",
        "6. Persen (modulus) = %"
      ],
      "metadata": {
        "id": "pmdg3ya9MHTp"
      }
    },
    {
      "cell_type": "code",
      "source": [
        "#Contoh Penjumlahan (+)\n",
        "\n",
        "a=10\n",
        "b=5\n",
        "c=a+b\n",
        "print(c)\n",
        "\n",
        "\n",
        "#Contoh Pengurangan (-)\n",
        "\n",
        "a=10\n",
        "b=5\n",
        "c=a-b\n",
        "print(c)\n",
        "\n",
        "\n",
        "#Contoh Perkalian (*)\n",
        "\n",
        "a=10\n",
        "b=5\n",
        "c=a*b\n",
        "print(c)\n",
        "\n",
        "#Contoh Pembagian (/)\n",
        "\n",
        "a=10\n",
        "b=5\n",
        "c=a/b\n",
        "print(c)\n",
        "\n",
        "#Contoh Perpangkatan/eksponen (**)\n",
        "\n",
        "a=10\n",
        "b=5\n",
        "c=a**b\n",
        "print(c)\n",
        "\n",
        "\n",
        "#Contoh Persen/modulus (%)\n",
        "\n",
        "a=15\n",
        "b=2\n",
        "c=a%b\n",
        "\n",
        "print(c)"
      ],
      "metadata": {
        "colab": {
          "base_uri": "https://localhost:8080/"
        },
        "id": "Ymd0c_YrMI9V",
        "outputId": "61af2fd4-d530-47c3-baa1-82ad39cf0b95"
      },
      "execution_count": 8,
      "outputs": [
        {
          "output_type": "stream",
          "name": "stdout",
          "text": [
            "15\n",
            "5\n",
            "50\n",
            "2.0\n",
            "100000\n",
            "1\n"
          ]
        }
      ]
    },
    {
      "cell_type": "markdown",
      "source": [
        "#OPERATOR PERBANDINGAN\n",
        "\n",
        "1. Lebih besar : >  (a>70 : 71-100)\n",
        "2. Lebih kecil : <  (a<70 : 69-0)\n",
        "3. Lebih besar sama dengan : >=  (a>=70 : 70-100)\n",
        "4. Lebih kecil sama dengan : <=  (a<=70 : 70-0)\n",
        "5. Tidak sama dengan : !=  (jelek!=bagus: true&false : ingkaran)\n",
        "6. Sama dengan sama : == (bagus==bagus: true)"
      ],
      "metadata": {
        "id": "0R6G9QzuMVOW"
      }
    },
    {
      "cell_type": "code",
      "source": [
        "#Contoh lebih besar (>)\n",
        "\n",
        "x=200\n",
        "y=100\n",
        "z=x>y\n",
        "print(z)"
      ],
      "metadata": {
        "colab": {
          "base_uri": "https://localhost:8080/"
        },
        "id": "GcRaKkprMhEf",
        "outputId": "21da02b5-0b6a-40bf-f9fd-6597d52113b6"
      },
      "execution_count": 14,
      "outputs": [
        {
          "output_type": "stream",
          "name": "stdout",
          "text": [
            "True\n"
          ]
        }
      ]
    },
    {
      "cell_type": "markdown",
      "source": [
        "- Difungsikan untuk mencari nilai yang lebih besar"
      ],
      "metadata": {
        "id": "JYyrZPiESey8"
      }
    },
    {
      "cell_type": "code",
      "source": [
        "#Contoh lebih kecil (<)\n",
        "\n",
        "x=60\n",
        "y=75\n",
        "z=x<y\n",
        "print(z)"
      ],
      "metadata": {
        "colab": {
          "base_uri": "https://localhost:8080/"
        },
        "id": "krdAnRO-ShIU",
        "outputId": "9f0928a9-03e2-4b95-8528-ac4bd6667d0f"
      },
      "execution_count": 13,
      "outputs": [
        {
          "output_type": "stream",
          "name": "stdout",
          "text": [
            "True\n"
          ]
        }
      ]
    },
    {
      "cell_type": "markdown",
      "source": [
        "- Difungsikan untuk mencari nilai yang lebih kecil"
      ],
      "metadata": {
        "id": "6duNNSUiSj24"
      }
    },
    {
      "cell_type": "code",
      "source": [
        "#Contoh lebih besar sama dengan (>=)\n",
        "\n",
        "x=75\n",
        "y=70\n",
        "z=x>=y\n",
        "print(z)"
      ],
      "metadata": {
        "colab": {
          "base_uri": "https://localhost:8080/"
        },
        "id": "O-QH85v_Snqc",
        "outputId": "1e6e22f9-fd46-4879-c106-4b66e5501fee"
      },
      "execution_count": 12,
      "outputs": [
        {
          "output_type": "stream",
          "name": "stdout",
          "text": [
            "True\n"
          ]
        }
      ]
    },
    {
      "cell_type": "markdown",
      "source": [
        "- Di fungsikan untuk mencari nilai yang lebih besar atau sama dengan nilai sebelah kanan."
      ],
      "metadata": {
        "id": "f7r40YboSrCq"
      }
    },
    {
      "cell_type": "code",
      "source": [
        "#Contoh lebih kecil sama dengan (<=)\n",
        "\n",
        "x=70\n",
        "y=75\n",
        "z=x<=y\n",
        "print(z)"
      ],
      "metadata": {
        "colab": {
          "base_uri": "https://localhost:8080/"
        },
        "id": "eqc5blaDS5Bo",
        "outputId": "f26837fb-6c77-4f0b-add7-bb0508e71bf4"
      },
      "execution_count": 11,
      "outputs": [
        {
          "output_type": "stream",
          "name": "stdout",
          "text": [
            "True\n"
          ]
        }
      ]
    },
    {
      "cell_type": "markdown",
      "source": [
        "- Di fungsikan untuk mencari nilai yang lebih kecil atau sama dengan nilai sebelah kanan."
      ],
      "metadata": {
        "id": "T8JOOL7_S_Qh"
      }
    },
    {
      "cell_type": "code",
      "source": [
        "#Contoh tidak sama dengan (!=)\n",
        "\n",
        "x=\"ganteng\"\n",
        "y=\"cantik\"\n",
        "z=x!=y\n",
        "print(z)"
      ],
      "metadata": {
        "colab": {
          "base_uri": "https://localhost:8080/"
        },
        "id": "_CDQhkbVTOWc",
        "outputId": "19a6c791-891c-47bc-c0b9-2384c13edcb9"
      },
      "execution_count": 10,
      "outputs": [
        {
          "output_type": "stream",
          "name": "stdout",
          "text": [
            "True\n"
          ]
        }
      ]
    },
    {
      "cell_type": "markdown",
      "source": [
        "- Di fungsikan untuk menyatakan bahwasanya nilai antara sebelah kanan dan kiri berbeda/tidak sama."
      ],
      "metadata": {
        "id": "J120zAMBTPYp"
      }
    },
    {
      "cell_type": "code",
      "source": [
        "#Contoh sama dengan sama (==)\n",
        "\n",
        "x=\"ganteng\"\n",
        "y=\"ganteng\"\n",
        "z=x==y\n",
        "print(z)"
      ],
      "metadata": {
        "colab": {
          "base_uri": "https://localhost:8080/"
        },
        "id": "z_m21qPsTQJq",
        "outputId": "aaa63f2a-a48d-40d6-be12-52f00c5448ed"
      },
      "execution_count": 9,
      "outputs": [
        {
          "output_type": "stream",
          "name": "stdout",
          "text": [
            "True\n"
          ]
        }
      ]
    },
    {
      "cell_type": "markdown",
      "source": [
        "- Di fungsikan untuk menyatakan bahwasanya nilai antara sebelah kanan dan kiri sama."
      ],
      "metadata": {
        "id": "bdm3S6_UTS0i"
      }
    }
  ]
}