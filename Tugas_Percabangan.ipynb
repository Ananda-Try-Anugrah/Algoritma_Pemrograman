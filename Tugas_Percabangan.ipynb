{
  "nbformat": 4,
  "nbformat_minor": 0,
  "metadata": {
    "colab": {
      "provenance": [],
      "authorship_tag": "ABX9TyMDY1ClEXZWXkDFUvizNNgH",
      "include_colab_link": true
    },
    "kernelspec": {
      "name": "python3",
      "display_name": "Python 3"
    },
    "language_info": {
      "name": "python"
    }
  },
  "cells": [
    {
      "cell_type": "markdown",
      "metadata": {
        "id": "view-in-github",
        "colab_type": "text"
      },
      "source": [
        "<a href=\"https://colab.research.google.com/github/Ananda-Try-Anugrah/Algoritma_Pemrograman/blob/main/Tugas_Percabangan.ipynb\" target=\"_parent\"><img src=\"https://colab.research.google.com/assets/colab-badge.svg\" alt=\"Open In Colab\"/></a>"
      ]
    },
    {
      "cell_type": "markdown",
      "source": [
        "#Penentuan DIskon Berdasarkan Jumlah Pembelian"
      ],
      "metadata": {
        "id": "ZGS5HK8hgrPu"
      }
    },
    {
      "cell_type": "code",
      "execution_count": 53,
      "metadata": {
        "colab": {
          "base_uri": "https://localhost:8080/"
        },
        "id": "ZNABwAgPfPlJ",
        "outputId": "3bb9baf0-560c-4bdd-f51d-3d5d25a10434"
      },
      "outputs": [
        {
          "output_type": "stream",
          "name": "stdout",
          "text": [
            "Masukkan jumlah pembelian: 600.000\n",
            "Diskon 20%\n"
          ]
        }
      ],
      "source": [
        "jumlah_pembelian = float(input(\"Masukkan jumlah pembelian: \"))\n",
        "\n",
        "if jumlah_pembelian < 100.000:\n",
        "  print(\"Tidak ada diskon\")\n",
        "elif jumlah_pembelian >= 100.000 and jumlah_pembelian < 500.000:\n",
        "  print(\"Diskon 10%\")\n",
        "elif jumlah_pembelian >= 500.000 and jumlah_pembelian < 100.0000:\n",
        "  print(\"Diskon 20%\")\n",
        "else:\n",
        "  print(\"Diskon 20%\")"
      ]
    },
    {
      "cell_type": "markdown",
      "source": [
        "#Klasifikasi Umur"
      ],
      "metadata": {
        "id": "cSgR19vrqzRW"
      }
    },
    {
      "cell_type": "code",
      "source": [
        "umur = int(input(\"Masukkan umur Anda: \"))\n",
        "if umur < 12:\n",
        "    print(\"Anak-anak\")\n",
        "elif umur <= 17:\n",
        "    print(\"Remaja\")\n",
        "elif umur <= 64:\n",
        "    print(\"Dewasa\")\n",
        "else:\n",
        "    print(\"Lansia\")"
      ],
      "metadata": {
        "colab": {
          "base_uri": "https://localhost:8080/"
        },
        "id": "YsSomjrSoesB",
        "outputId": "70670e52-0bbe-45d6-8d82-285b48647da8"
      },
      "execution_count": 51,
      "outputs": [
        {
          "output_type": "stream",
          "name": "stdout",
          "text": [
            "Masukkan umur Anda: 65\n",
            "Lansia\n"
          ]
        }
      ]
    },
    {
      "cell_type": "markdown",
      "source": [
        "#Penilaian Nilai Siswa"
      ],
      "metadata": {
        "id": "S3-D1Vo9qqZi"
      }
    },
    {
      "cell_type": "code",
      "source": [
        "nilai = int(input(\"Masukkan nilai ujian: \"))\n",
        "if nilai >= 90:\n",
        "    print(\"Peringkat A\")\n",
        "elif nilai >= 80:\n",
        "    print(\"Peringkat B\")\n",
        "elif nilai >= 70:\n",
        "    print(\"Peringkat C\")\n",
        "else:\n",
        "    print(\"Peringkat D\")"
      ],
      "metadata": {
        "colab": {
          "base_uri": "https://localhost:8080/"
        },
        "id": "7YZQx-9opj3k",
        "outputId": "655864a3-a3ee-4f63-d093-315455addd7b"
      },
      "execution_count": 52,
      "outputs": [
        {
          "output_type": "stream",
          "name": "stdout",
          "text": [
            "Masukkan nilai ujian: 69\n",
            "Peringkat D\n"
          ]
        }
      ]
    },
    {
      "cell_type": "markdown",
      "source": [
        "#Pengecekan Tahun Kabiset"
      ],
      "metadata": {
        "id": "X14ePLlMq3k9"
      }
    },
    {
      "cell_type": "code",
      "source": [
        "a=int(input(\"Masukkan Tahun: \"))\n",
        "if a % 4 == 0:\n",
        "    if a % 100 == 0:\n",
        "        if a % 400 == 0:\n",
        "            print(\"Tahun kabisat\")\n",
        "        else:\n",
        "            print(\"Bukan tahun kabisat\")\n"
      ],
      "metadata": {
        "colab": {
          "base_uri": "https://localhost:8080/"
        },
        "id": "a2W-_4wfspVu",
        "outputId": "3f4d0884-f790-4591-a63f-ad22fe9c896e"
      },
      "execution_count": 54,
      "outputs": [
        {
          "output_type": "stream",
          "name": "stdout",
          "text": [
            "Masukkan Tahun: 400\n",
            "Tahun kabisat\n"
          ]
        }
      ]
    },
    {
      "cell_type": "markdown",
      "source": [
        "#Kalkulator Sederhana"
      ],
      "metadata": {
        "id": "6KMwSAoNs6Tp"
      }
    },
    {
      "cell_type": "code",
      "source": [
        "a = int(input(\"Masukkan angka pertama: \"))\n",
        "b = int(input(\"Masukkan angka kedua: \"))\n",
        "c = input(\"Masukkan operasi: \")\n",
        "if c == \"+\":\n",
        "  print(a+b)\n",
        "elif c == \"-\":\n",
        "  print(a-b)\n",
        "elif c == \"*\":\n",
        "  print(a*b)\n",
        "elif c == \"/\":\n",
        "  print(a/b)\n",
        "else:\n",
        "  print(\"operasi tidak valid\")"
      ],
      "metadata": {
        "colab": {
          "base_uri": "https://localhost:8080/"
        },
        "id": "KxmgLj0xs_yp",
        "outputId": "337952dd-7af7-447f-d374-c09e3c47a443"
      },
      "execution_count": 57,
      "outputs": [
        {
          "output_type": "stream",
          "name": "stdout",
          "text": [
            "Masukkan angka pertama: 100\n",
            "Masukkan angka kedua: 100\n",
            "Masukkan operasi: *\n",
            "10000\n"
          ]
        }
      ]
    }
  ]
}