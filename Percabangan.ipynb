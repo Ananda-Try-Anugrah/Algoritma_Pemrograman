{
  "nbformat": 4,
  "nbformat_minor": 0,
  "metadata": {
    "colab": {
      "provenance": [],
      "authorship_tag": "ABX9TyMOGsLRrDMj7W89z83fHzUv",
      "include_colab_link": true
    },
    "kernelspec": {
      "name": "python3",
      "display_name": "Python 3"
    },
    "language_info": {
      "name": "python"
    }
  },
  "cells": [
    {
      "cell_type": "markdown",
      "metadata": {
        "id": "view-in-github",
        "colab_type": "text"
      },
      "source": [
        "<a href=\"https://colab.research.google.com/github/Ananda-Try-Anugrah/Algoritma_Pemrograman/blob/main/Percabangan.ipynb\" target=\"_parent\"><img src=\"https://colab.research.google.com/assets/colab-badge.svg\" alt=\"Open In Colab\"/></a>"
      ]
    },
    {
      "cell_type": "markdown",
      "source": [
        "#PERCABANGAN\n",
        "percabangan adalah struktur kontrol yang memungkinkan program untuk membuat keputusan berdasarkan kondisi tertentu.\n",
        "\n",
        "#IF\n",
        "if digunakan untuk memeriksa apakah kondisi tertentu bernilai true (benar). Jika kondisi tersebut benar, maka blok kode di bawah if akan dijalankan.\n",
        "\n",
        "#ELIF\n",
        "elif adalah singkatan dari \"else if\". elif digunakan setelah if untuk memeriksa kondisi lain jika kondisi if sebelumnya tidak terpenuhi.\n",
        "\n",
        "#ELSE\n",
        "else dIgunakan di akhir rangkaian percabangan, dan akan dijalankan jika semua kondisi if dan elif sebelumnya salah.\n",
        "\n",
        "Berikut beberapa contoh percabangan suatu kondisi:"
      ],
      "metadata": {
        "id": "rhC5GCxwlart"
      }
    },
    {
      "cell_type": "code",
      "source": [
        "angka = int(input(\"masukkan angka: \"))\n",
        "if angka > 0:\n",
        "    print(\"Bilangan positif\")"
      ],
      "metadata": {
        "colab": {
          "base_uri": "https://localhost:8080/"
        },
        "id": "FXzS27PGOa7S",
        "outputId": "3c7c643d-c13e-4dca-bb88-3c46cf090fae"
      },
      "execution_count": null,
      "outputs": [
        {
          "output_type": "stream",
          "name": "stdout",
          "text": [
            "masukkan angka: 1\n",
            "Bilangan positif\n"
          ]
        }
      ]
    },
    {
      "cell_type": "code",
      "source": [
        "is_logged_in = True\n",
        "if is_logged_in:\n",
        "    print(\"Selamat datang!\")\n",
        "else:\n",
        "    print(\"Silakan login terlebih dahulu.\")"
      ],
      "metadata": {
        "colab": {
          "base_uri": "https://localhost:8080/"
        },
        "id": "zHbh8nLdSrwV",
        "outputId": "322006b6-5da5-4f0f-bbfc-e76255102545"
      },
      "execution_count": null,
      "outputs": [
        {
          "output_type": "stream",
          "name": "stdout",
          "text": [
            "Selamat datang!\n"
          ]
        }
      ]
    },
    {
      "cell_type": "code",
      "source": [
        "umur = int(input(\"Masukkan umur Anda: \"))\n",
        "if umur < 13:\n",
        "    print(\"Anak-anak\")\n",
        "elif umur < 18:\n",
        "    print(\"Remaja\")\n",
        "else:\n",
        "    print(\"Dewasa\")"
      ],
      "metadata": {
        "colab": {
          "base_uri": "https://localhost:8080/"
        },
        "id": "aVKr9QogSuNm",
        "outputId": "82edccf7-26ed-418f-e464-8e8a3ec59c27"
      },
      "execution_count": null,
      "outputs": [
        {
          "output_type": "stream",
          "name": "stdout",
          "text": [
            "Masukkan umur Anda: 20\n",
            "Dewasa\n"
          ]
        }
      ]
    },
    {
      "cell_type": "code",
      "source": [
        "nilai = int(input(\"Masukkan nilai ujian: \"))\n",
        "if nilai >= 90:\n",
        "    print(\"Peringkat A\")\n",
        "elif nilai >= 80:\n",
        "    print(\"Peringkat B\")\n",
        "elif nilai >= 70:\n",
        "    print(\"Peringkat C\")\n",
        "else:\n",
        "    print(\"Peringkat D\")"
      ],
      "metadata": {
        "colab": {
          "base_uri": "https://localhost:8080/"
        },
        "id": "4k8XgAUiS_79",
        "outputId": "0f508a10-465b-48ae-e3f3-9efe470495b4"
      },
      "execution_count": null,
      "outputs": [
        {
          "output_type": "stream",
          "name": "stdout",
          "text": [
            "Masukkan nilai ujian: 75\n",
            "Peringkat C\n"
          ]
        }
      ]
    },
    {
      "cell_type": "code",
      "source": [
        "jumlah_roda = int(input(\"Masukkan jumlah roda: \"))\n",
        "if jumlah_roda == 2:\n",
        "    print(\"Sepeda Motor\")\n",
        "elif jumlah_roda == 3:\n",
        "    print(\"Bajai\")\n",
        "elif jumlah_roda == 4:\n",
        "    print(\"Mobil\")\n",
        "elif jumlah_roda == 6:\n",
        "    print(\"Truk kecil\")\n",
        "else:\n",
        "    print(\"Jenis kendaraan tidak terdaftar\")"
      ],
      "metadata": {
        "colab": {
          "base_uri": "https://localhost:8080/"
        },
        "id": "1gnH5vlrTWF4",
        "outputId": "3122e5d1-5373-424e-9d6c-2e7b5f380a39"
      },
      "execution_count": null,
      "outputs": [
        {
          "output_type": "stream",
          "name": "stdout",
          "text": [
            "Masukkan jumlah roda: 1\n",
            "Jenis kendaraan tidak terdaftar\n"
          ]
        }
      ]
    },
    {
      "cell_type": "code",
      "source": [
        "bulan = int(input(\"Masukkan bulan (1-12): \"))\n",
        "if bulan == 12 or bulan == 1 or bulan == 2:\n",
        "    print(\"Musim Dingin\")\n",
        "elif bulan == 3 or bulan == 4 or bulan == 5:\n",
        "    print(\"Musim Semi\")\n",
        "elif bulan == 6 or bulan == 7 or bulan == 8:\n",
        "    print(\"Musim Panas\")\n",
        "elif bulan == 9 or bulan == 10 or bulan == 11:\n",
        "    print(\"Musim Gugur\")\n",
        "else:\n",
        "    print(\"Bulan tidak valid\")"
      ],
      "metadata": {
        "colab": {
          "base_uri": "https://localhost:8080/"
        },
        "id": "RTPXEU3PTgNg",
        "outputId": "31ed4cef-c9b9-4af1-f88b-7cfe2880932a"
      },
      "execution_count": null,
      "outputs": [
        {
          "output_type": "stream",
          "name": "stdout",
          "text": [
            "Masukkan bulan (1-12): 1\n",
            "Musim Dingin\n"
          ]
        }
      ]
    },
    {
      "cell_type": "code",
      "source": [
        "simbol = input(\"Masukkan simbol kartu (Sekop, Hati, Wajik, Keriting, Joker, Merah): \")\n",
        "if simbol == \"Sekop\":\n",
        "    print(\"Kartu Sekop\")\n",
        "elif simbol == \"Hati\":\n",
        "    print(\"Kartu Hati\")\n",
        "elif simbol == \"Wajik\":\n",
        "    print(\"Kartu Wajik\")\n",
        "elif simbol == \"Keriting\":\n",
        "    print(\"Kartu Keriting\")\n",
        "elif simbol == \"Joker\":\n",
        "    print(\"Kartu Joker\")\n",
        "elif simbol == \"Merah\":\n",
        "    print(\"Kartu Merah\")\n",
        "else:\n",
        "    print(\"Simbol kartu tidak dikenali\")"
      ],
      "metadata": {
        "colab": {
          "base_uri": "https://localhost:8080/"
        },
        "id": "Sn4ywqunTxtf",
        "outputId": "311426a0-3cb4-432b-d7b4-a210a44b1218"
      },
      "execution_count": 1,
      "outputs": [
        {
          "output_type": "stream",
          "name": "stdout",
          "text": [
            "Masukkan simbol kartu (Sekop, Hati, Wajik, Keriting, Joker, Merah): Joker\n",
            "Kartu Joker\n"
          ]
        }
      ]
    }
  ]
}